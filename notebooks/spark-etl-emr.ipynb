{
 "cells": [
  {
   "cell_type": "markdown",
   "metadata": {},
   "source": [
    "## start Spark"
   ]
  },
  {
   "cell_type": "code",
   "execution_count": null,
   "metadata": {},
   "outputs": [],
   "source": []
  },
  {
   "cell_type": "code",
   "execution_count": 29,
   "metadata": {},
   "outputs": [
    {
     "data": {
      "application/vnd.jupyter.widget-view+json": {
       "model_id": "b1af38fe612e4f44aa1191e9f6e34434",
       "version_major": 2,
       "version_minor": 0
      },
      "text/plain": [
       "VBox()"
      ]
     },
     "metadata": {},
     "output_type": "display_data"
    },
    {
     "data": {
      "application/vnd.jupyter.widget-view+json": {
       "model_id": "",
       "version_major": 2,
       "version_minor": 0
      },
      "text/plain": [
       "FloatProgress(value=0.0, bar_style='info', description='Progress:', layout=Layout(height='25px', width='50%'),…"
      ]
     },
     "metadata": {},
     "output_type": "display_data"
    }
   ],
   "source": [
    "from pyspark.sql import SparkSession\n",
    "from pyspark.sql.functions import isnan, count, when, col, desc, udf, col, sort_array, asc, avg\n",
    "from pyspark.sql.functions import sum as Fsum\n",
    "from pyspark.sql.window import Window\n",
    "from pyspark.sql.types import IntegerType"
   ]
  },
  {
   "cell_type": "markdown",
   "metadata": {},
   "source": [
    "## Load market data"
   ]
  },
  {
   "cell_type": "code",
   "execution_count": 82,
   "metadata": {},
   "outputs": [
    {
     "data": {
      "application/vnd.jupyter.widget-view+json": {
       "model_id": "89a5d9338817461581172dfcf1953e81",
       "version_major": 2,
       "version_minor": 0
      },
      "text/plain": [
       "VBox()"
      ]
     },
     "metadata": {},
     "output_type": "display_data"
    },
    {
     "data": {
      "application/vnd.jupyter.widget-view+json": {
       "model_id": "",
       "version_major": 2,
       "version_minor": 0
      },
      "text/plain": [
       "FloatProgress(value=0.0, bar_style='info', description='Progress:', layout=Layout(height='25px', width='50%'),…"
      ]
     },
     "metadata": {},
     "output_type": "display_data"
    }
   ],
   "source": [
    "from pyspark.sql.functions import regexp_replace, input_file_name\n",
    "from pyspark.sql.types import (StructType, StructField, IntegerType,\n",
    "                               StringType, FloatType)\n",
    "\n",
    "# sample: 202004011320,Abe,Ajuste,Fec,Max,Min,Ofc,Ofv,QOfc,QOfv,QUlt,Ult,Grupo,\n",
    "#         NNeg,Nome,QTot,Strike,VCTO,VolTot\n",
    "# NOTE: for some reason, I should first import the data THEN cast it to the\n",
    "#  correct types\n",
    "\n",
    "schema = StructType([\n",
    "    StructField(\"ticker\", StringType(), True),\n",
    "    StructField(\"open\", StringType(), True),\n",
    "    StructField(\"settle\", StringType(), True),\n",
    "    StructField(\"lclose\", StringType(), True),\n",
    "    StructField(\"max\", StringType(), True),\n",
    "    StructField(\"min\", StringType(), True),\n",
    "    StructField(\"bid\", StringType(), True),\n",
    "    StructField(\"ask\", StringType(), True),\n",
    "    StructField(\"qbid\", StringType(), True),\n",
    "    StructField(\"qask\", StringType(), True),\n",
    "    StructField(\"qlast\", IntegerType(), True),\n",
    "    StructField(\"last\", StringType(), True),\n",
    "    StructField(\"group\", StringType(), True),\n",
    "    StructField(\"ntrades\", StringType(), True),\n",
    "    StructField(\"name\", StringType(), True),\n",
    "    StructField(\"qtotal\", StringType(), True),\n",
    "    StructField(\"strike\", StringType(), True),\n",
    "    StructField(\"expdate\", StringType(), True),\n",
    "    StructField(\"totalvol\", StringType(), True)])\n",
    "\n",
    "def load_data(s_path2s3, this_schema=schema):\n",
    "    # read csv\n",
    "    df = (spark.read\n",
    "              .option(\"header\", \"true\")\n",
    "              .schema(this_schema)\n",
    "              .csv(s_path2s3)\n",
    "              .withColumn(\"input_file\", input_file_name()))\n",
    "\n",
    "    # drop rows where ticker is null\n",
    "    df = df.na.drop(subset=[\"ticker\"])\n",
    "    return df"
   ]
  },
  {
   "cell_type": "code",
   "execution_count": 84,
   "metadata": {},
   "outputs": [
    {
     "data": {
      "application/vnd.jupyter.widget-view+json": {
       "model_id": "5d4cfe8269f14fbd82c803fecf64f8d7",
       "version_major": 2,
       "version_minor": 0
      },
      "text/plain": [
       "VBox()"
      ]
     },
     "metadata": {},
     "output_type": "display_data"
    },
    {
     "data": {
      "application/vnd.jupyter.widget-view+json": {
       "model_id": "",
       "version_major": 2,
       "version_minor": 0
      },
      "text/plain": [
       "FloatProgress(value=0.0, bar_style='info', description='Progress:', layout=Layout(height='25px', width='50%'),…"
      ]
     },
     "metadata": {},
     "output_type": "display_data"
    }
   ],
   "source": [
    "# 202004011320_flashpanel.csv \n",
    "data_quotes = 's3a://data-from-quotes/20200411*_flashpanel.csv'\n",
    "data_quotes = 's3a://data-from-quotes/*_flashpanel.csv'"
   ]
  },
  {
   "cell_type": "code",
   "execution_count": 85,
   "metadata": {},
   "outputs": [
    {
     "data": {
      "application/vnd.jupyter.widget-view+json": {
       "model_id": "c43dc4540be040cfa1feedc69879fe04",
       "version_major": 2,
       "version_minor": 0
      },
      "text/plain": [
       "VBox()"
      ]
     },
     "metadata": {},
     "output_type": "display_data"
    },
    {
     "data": {
      "application/vnd.jupyter.widget-view+json": {
       "model_id": "",
       "version_major": 2,
       "version_minor": 0
      },
      "text/plain": [
       "FloatProgress(value=0.0, bar_style='info', description='Progress:', layout=Layout(height='25px', width='50%'),…"
      ]
     },
     "metadata": {},
     "output_type": "display_data"
    },
    {
     "name": "stdout",
     "output_type": "stream",
     "text": [
      "918702"
     ]
    }
   ],
   "source": [
    "df = spark.read.csv(data_quotes)\n",
    "df.count()"
   ]
  },
  {
   "cell_type": "code",
   "execution_count": null,
   "metadata": {},
   "outputs": [],
   "source": []
  },
  {
   "cell_type": "code",
   "execution_count": 86,
   "metadata": {},
   "outputs": [
    {
     "data": {
      "application/vnd.jupyter.widget-view+json": {
       "model_id": "49d51175e2f849aa91dcef72275bca0d",
       "version_major": 2,
       "version_minor": 0
      },
      "text/plain": [
       "VBox()"
      ]
     },
     "metadata": {},
     "output_type": "display_data"
    },
    {
     "data": {
      "application/vnd.jupyter.widget-view+json": {
       "model_id": "",
       "version_major": 2,
       "version_minor": 0
      },
      "text/plain": [
       "FloatProgress(value=0.0, bar_style='info', description='Progress:', layout=Layout(height='25px', width='50%'),…"
      ]
     },
     "metadata": {},
     "output_type": "display_data"
    },
    {
     "name": "stdout",
     "output_type": "stream",
     "text": [
      "root\n",
      " |-- ticker: string (nullable = true)\n",
      " |-- open: string (nullable = true)\n",
      " |-- settle: string (nullable = true)\n",
      " |-- lclose: string (nullable = true)\n",
      " |-- max: string (nullable = true)\n",
      " |-- min: string (nullable = true)\n",
      " |-- bid: string (nullable = true)\n",
      " |-- ask: string (nullable = true)\n",
      " |-- qbid: string (nullable = true)\n",
      " |-- qask: string (nullable = true)\n",
      " |-- qlast: integer (nullable = true)\n",
      " |-- last: string (nullable = true)\n",
      " |-- group: string (nullable = true)\n",
      " |-- ntrades: string (nullable = true)\n",
      " |-- name: string (nullable = true)\n",
      " |-- qtotal: string (nullable = true)\n",
      " |-- strike: string (nullable = true)\n",
      " |-- expdate: string (nullable = true)\n",
      " |-- totalvol: string (nullable = true)\n",
      " |-- input_file: string (nullable = false)"
     ]
    }
   ],
   "source": [
    "df = load_data(data_quotes)\n",
    "df.printSchema()"
   ]
  },
  {
   "cell_type": "markdown",
   "metadata": {},
   "source": [
    "## Exploring the data"
   ]
  },
  {
   "cell_type": "code",
   "execution_count": 5,
   "metadata": {},
   "outputs": [
    {
     "data": {
      "application/vnd.jupyter.widget-view+json": {
       "model_id": "2bec19da0db943608a76eee4d3c003fd",
       "version_major": 2,
       "version_minor": 0
      },
      "text/plain": [
       "VBox()"
      ]
     },
     "metadata": {},
     "output_type": "display_data"
    },
    {
     "data": {
      "application/vnd.jupyter.widget-view+json": {
       "model_id": "",
       "version_major": 2,
       "version_minor": 0
      },
      "text/plain": [
       "FloatProgress(value=0.0, bar_style='info', description='Progress:', layout=Layout(height='25px', width='50%'),…"
      ]
     },
     "metadata": {},
     "output_type": "display_data"
    },
    {
     "name": "stdout",
     "output_type": "stream",
     "text": [
      "+------+-----+-----+\n",
      "|ticker|  bid|  ask|\n",
      "+------+-----+-----+\n",
      "| PETR4|15,73|15,74|\n",
      "| PETR4|15,68|15,69|\n",
      "| PETR4|14,33|14,34|\n",
      "| PETR4|15,83|15.84|\n",
      "| PETR4|15,69| 15.7|\n",
      "+------+-----+-----+\n",
      "only showing top 5 rows"
     ]
    }
   ],
   "source": [
    "(df.filter(df.ticker == 'PETR4')\n",
    "   .select('ticker', 'bid', 'ask')\n",
    "   .show(5))"
   ]
  },
  {
   "cell_type": "code",
   "execution_count": 6,
   "metadata": {},
   "outputs": [
    {
     "data": {
      "application/vnd.jupyter.widget-view+json": {
       "model_id": "dcae3bf795dd4191b71fd942b637566f",
       "version_major": 2,
       "version_minor": 0
      },
      "text/plain": [
       "VBox()"
      ]
     },
     "metadata": {},
     "output_type": "display_data"
    },
    {
     "data": {
      "application/vnd.jupyter.widget-view+json": {
       "model_id": "",
       "version_major": 2,
       "version_minor": 0
      },
      "text/plain": [
       "FloatProgress(value=0.0, bar_style='info', description='Progress:', layout=Layout(height='25px', width='50%'),…"
      ]
     },
     "metadata": {},
     "output_type": "display_data"
    },
    {
     "name": "stdout",
     "output_type": "stream",
     "text": [
      "196"
     ]
    }
   ],
   "source": [
    "(df.filter(df.ticker == 'PETR4').count())"
   ]
  },
  {
   "cell_type": "code",
   "execution_count": 7,
   "metadata": {},
   "outputs": [
    {
     "data": {
      "application/vnd.jupyter.widget-view+json": {
       "model_id": "c582539524d74a7c990a3a5caeb49ea9",
       "version_major": 2,
       "version_minor": 0
      },
      "text/plain": [
       "VBox()"
      ]
     },
     "metadata": {},
     "output_type": "display_data"
    },
    {
     "data": {
      "application/vnd.jupyter.widget-view+json": {
       "model_id": "",
       "version_major": 2,
       "version_minor": 0
      },
      "text/plain": [
       "FloatProgress(value=0.0, bar_style='info', description='Progress:', layout=Layout(height='25px', width='50%'),…"
      ]
     },
     "metadata": {},
     "output_type": "display_data"
    },
    {
     "name": "stdout",
     "output_type": "stream",
     "text": [
      "+--------------------+\n",
      "|          input_file|\n",
      "+--------------------+\n",
      "|s3a://data-from-q...|\n",
      "|s3a://data-from-q...|\n",
      "|s3a://data-from-q...|\n",
      "|s3a://data-from-q...|\n",
      "|s3a://data-from-q...|\n",
      "+--------------------+\n",
      "only showing top 5 rows"
     ]
    }
   ],
   "source": [
    "(df.filter(df.ticker == 'PETR4')\n",
    "   .select('input_file')\n",
    "   .show(5))"
   ]
  },
  {
   "cell_type": "code",
   "execution_count": null,
   "metadata": {},
   "outputs": [],
   "source": []
  },
  {
   "cell_type": "markdown",
   "metadata": {},
   "source": [
    "## Transforming the data"
   ]
  },
  {
   "cell_type": "code",
   "execution_count": 70,
   "metadata": {},
   "outputs": [
    {
     "data": {
      "application/vnd.jupyter.widget-view+json": {
       "model_id": "9176266bba714356b683faffaa4cad55",
       "version_major": 2,
       "version_minor": 0
      },
      "text/plain": [
       "VBox()"
      ]
     },
     "metadata": {},
     "output_type": "display_data"
    },
    {
     "data": {
      "application/vnd.jupyter.widget-view+json": {
       "model_id": "",
       "version_major": 2,
       "version_minor": 0
      },
      "text/plain": [
       "FloatProgress(value=0.0, bar_style='info', description='Progress:', layout=Layout(height='25px', width='50%'),…"
      ]
     },
     "metadata": {},
     "output_type": "display_data"
    },
    {
     "name": "stdout",
     "output_type": "stream",
     "text": [
      "root\n",
      " |-- ticker: string (nullable = true)\n",
      " |-- open: string (nullable = true)\n",
      " |-- settle: string (nullable = true)\n",
      " |-- lclose: string (nullable = true)\n",
      " |-- max: string (nullable = true)\n",
      " |-- min: string (nullable = true)\n",
      " |-- bid: string (nullable = true)\n",
      " |-- ask: string (nullable = true)\n",
      " |-- qbid: string (nullable = true)\n",
      " |-- qask: string (nullable = true)\n",
      " |-- qlast: integer (nullable = true)\n",
      " |-- last: string (nullable = true)\n",
      " |-- group: string (nullable = true)\n",
      " |-- ntrades: string (nullable = true)\n",
      " |-- name: string (nullable = true)\n",
      " |-- qtotal: string (nullable = true)\n",
      " |-- strike: string (nullable = true)\n",
      " |-- expdate: string (nullable = true)\n",
      " |-- totalvol: string (nullable = true)\n",
      " |-- input_file: string (nullable = false)\n",
      " |-- intdate: long (nullable = true)\n",
      " |-- datetime: date (nullable = true)\n",
      " |-- bid2: float (nullable = true)\n",
      " |-- ask2: float (nullable = true)\n",
      " |-- open2: float (nullable = true)\n",
      " |-- settle2: float (nullable = true)\n",
      " |-- lclose2: float (nullable = true)\n",
      " |-- max2: float (nullable = true)\n",
      " |-- min2: float (nullable = true)\n",
      " |-- last2: float (nullable = true)\n",
      " |-- strike2: float (nullable = true)\n",
      " |-- totalvol2: float (nullable = true)\n",
      " |-- qbid2: integer (nullable = true)\n",
      " |-- qask2: integer (nullable = true)\n",
      " |-- qlast2: integer (nullable = true)\n",
      " |-- qtotal2: integer (nullable = true)\n",
      " |-- ntrades2: integer (nullable = true)"
     ]
    }
   ],
   "source": [
    "# create timestamp column from original timestamp column\n",
    "\n",
    "import time\n",
    "import numpy as np\n",
    "from datetime import datetime\n",
    "from pyspark.sql.functions import udf, col\n",
    "from pyspark.sql.types import LongType, IntegerType, DateType, StringType, FloatType\n",
    "\n",
    "\n",
    "get_ints_from_file = udf(lambda x: int(str(x).split('/')[-1].split('_')[0]), LongType())\n",
    "df2 = df.withColumn('intdate', get_ints_from_file('input_file'))\n",
    "\n",
    "\n",
    "get_datetime = udf(lambda x: datetime(*time.strptime(str(x), '%Y%m%d%H%S')[:6]), DateType())\n",
    "df2 = df2.withColumn('datetime', get_datetime('intdate'))\n",
    "\n",
    "\n",
    "def convert_str2float(x):\n",
    "    if isinstance(x, str):\n",
    "        if x == 'Abe':\n",
    "            return np.nan\n",
    "        if 'm' in x:\n",
    "            l_nm = [float(xx + '0' * (3-len(xx))) for xx in x.split('m')]\n",
    "            if len(l_nm) > 1:\n",
    "                return l_nm[0] * 10**5 + l_nm[1] * 1000\n",
    "            return l_nm[0] * 10**5\n",
    "        elif 'k' in x:\n",
    "            l_nm = [float(xx + '0' * (3-len(xx))) for xx in x.split('k')]\n",
    "            if len(l_nm) > 1:\n",
    "                return l_nm[0] * 10**3 + l_nm[1]\n",
    "            return l_nm[0] * 10**3\n",
    "        elif 'b' in x:\n",
    "            l_nm = [float(xx + '0' * (3-len(xx))) for xx in x.split('b')]\n",
    "            if len(l_nm) > 1:\n",
    "                return l_nm[0] * 10**7 + l_nm[1] * 10 ** 6\n",
    "            return l_nm[0] * 10**7\n",
    "        return float(x.replace(',', '.'))\n",
    "    return x\n",
    "\n",
    "\n",
    "# 28m938\n",
    "# 223k\n",
    "# 111k5\n",
    "# 40m876\n",
    "# 895k1\n",
    "\n",
    "def convert_str2int(x):\n",
    "    if isinstance(x, str):\n",
    "        if 'm' in x:\n",
    "            l_nm = [int(xx + '0' * (3-len(xx))) for xx in x.split('m')]\n",
    "            if len(l_nm) > 1:\n",
    "                return l_nm[0] * 10**5 + l_nm[1] * 1000\n",
    "            return l_nm[0] * 10**5\n",
    "        elif 'k' in x:\n",
    "            l_nm = [int(xx + '0' * (3-len(xx))) for xx in x.split('k')]\n",
    "            if len(l_nm) > 1:\n",
    "                return l_nm[0] * 10**3 + l_nm[1]\n",
    "            return l_nm[0] * 10**3\n",
    "        elif 'b' in x:\n",
    "            l_nm = [int(xx + '0' * (3-len(xx))) for xx in x.split('b')]\n",
    "            if len(l_nm) > 1:\n",
    "                return l_nm[0] * 10**7 + l_nm[1] * 10 ** 6\n",
    "            return l_nm[0] * 10**7\n",
    "        return int(x.replace('.', ''))\n",
    "    return x\n",
    "\n",
    "\n",
    "get_str2float = udf(lambda x: convert_str2float(x), FloatType())\n",
    "for s_s2cast in ['bid', 'ask', 'open', 'settle', 'lclose', 'max', 'min', 'last', 'strike', 'totalvol']:\n",
    "    df2 = df2.withColumn(f'{s_s2cast}2', get_str2float(f'{s_s2cast}'))\n",
    "    \n",
    "get_str2int = udf(lambda x: convert_str2int(x), IntegerType())\n",
    "for s_s2cast in ['qbid', 'qask', 'qlast', 'qtotal', 'ntrades']:\n",
    "    df2 = df2.withColumn(f'{s_s2cast}2', get_str2int(f'{s_s2cast}'))\n",
    "\n",
    "df2.printSchema()"
   ]
  },
  {
   "cell_type": "code",
   "execution_count": 58,
   "metadata": {},
   "outputs": [
    {
     "data": {
      "application/vnd.jupyter.widget-view+json": {
       "model_id": "795e24bc868547e79c9ae5ba1ec49e15",
       "version_major": 2,
       "version_minor": 0
      },
      "text/plain": [
       "VBox()"
      ]
     },
     "metadata": {},
     "output_type": "display_data"
    },
    {
     "data": {
      "application/vnd.jupyter.widget-view+json": {
       "model_id": "",
       "version_major": 2,
       "version_minor": 0
      },
      "text/plain": [
       "FloatProgress(value=0.0, bar_style='info', description='Progress:', layout=Layout(height='25px', width='50%'),…"
      ]
     },
     "metadata": {},
     "output_type": "display_data"
    },
    {
     "name": "stdout",
     "output_type": "stream",
     "text": [
      "+-----+-----+-----+-----+--------+\n",
      "|bid  |ask  |bid2 |ask2 |ticker  |\n",
      "+-----+-----+-----+-----+--------+\n",
      "|8.84 |8.86 |8.84 |8.86 |AALR3   |\n",
      "|8.84 |8.87 |8.84 |8.87 |AALR3F  |\n",
      "|24.79|24.86|24.79|24.86|ALSO3   |\n",
      "|52.45|52.49|52.45|52.49|CPLE6   |\n",
      "|3.0  |3.41 |3.0  |3.41 |B3SAR342|\n",
      "+-----+-----+-----+-----+--------+"
     ]
    }
   ],
   "source": [
    "df2.select(['bid', 'ask', 'bid2', 'ask2', 'ticker']).limit(5).show(5, truncate=False)"
   ]
  },
  {
   "cell_type": "markdown",
   "metadata": {},
   "source": [
    "## Checking functions"
   ]
  },
  {
   "cell_type": "code",
   "execution_count": 71,
   "metadata": {},
   "outputs": [
    {
     "data": {
      "application/vnd.jupyter.widget-view+json": {
       "model_id": "2317510db6984819b453c232acaec5b9",
       "version_major": 2,
       "version_minor": 0
      },
      "text/plain": [
       "VBox()"
      ]
     },
     "metadata": {},
     "output_type": "display_data"
    },
    {
     "data": {
      "application/vnd.jupyter.widget-view+json": {
       "model_id": "",
       "version_major": 2,
       "version_minor": 0
      },
      "text/plain": [
       "FloatProgress(value=0.0, bar_style='info', description='Progress:', layout=Layout(height='25px', width='50%'),…"
      ]
     },
     "metadata": {},
     "output_type": "display_data"
    },
    {
     "name": "stdout",
     "output_type": "stream",
     "text": [
      "8,27 8.27 <class 'float'>\n",
      "8.27 8.27 <class 'float'>\n",
      "Abe nan <class 'float'>\n",
      "350k4 350400 <class 'int'>\n",
      "223k 223000 <class 'int'>\n",
      "40m876 40876000 <class 'int'>\n",
      "28m938 28938000.0 <class 'float'>\n",
      "28m938 28938000 <class 'int'>\n",
      "28m 28000000 <class 'int'>\n",
      "28m 28000000.0 <class 'float'>\n",
      "133k3 133300 <class 'int'>\n",
      "133k3 133300.0 <class 'float'>\n",
      "3b375 3375000000.0 <class 'float'>\n",
      "3b375 3375000000 <class 'int'>"
     ]
    }
   ],
   "source": [
    "x = '8,27'\n",
    "print(x, convert_str2float(x), type(convert_str2float(x)))\n",
    "x = '8.27'\n",
    "print(x, convert_str2float(x), type(convert_str2float(x)))\n",
    "x = 'Abe'\n",
    "print(x, convert_str2float(x), type(convert_str2float(x)))\n",
    "x = '350k4'\n",
    "print(x, convert_str2int(x), type(convert_str2int(x)))\n",
    "x = '223k'\n",
    "print(x, convert_str2int(x), type(convert_str2int(x)))\n",
    "x = '40m876'\n",
    "print(x, convert_str2int(x), type(convert_str2int(x)))\n",
    "x = '28m938'\n",
    "print(x, convert_str2float(x), type(convert_str2float(x)))\n",
    "\n",
    "x = '28m938'\n",
    "print(x, convert_str2int(x), type(convert_str2int(x)))\n",
    "\n",
    "x = '28m'\n",
    "print(x, convert_str2int(x), type(convert_str2int(x)))\n",
    "\n",
    "x = '28m'\n",
    "print(x, convert_str2float(x), type(convert_str2float(x)))\n",
    "\n",
    "\n",
    "x = '133k3'\n",
    "print(x, convert_str2int(x), type(convert_str2int(x)))\n",
    "\n",
    "x = '133k3'\n",
    "print(x, convert_str2float(x), type(convert_str2float(x)))\n",
    "\n",
    "\n",
    "x = '3b375'\n",
    "print(x, convert_str2float(x), type(convert_str2float(x)))\n",
    "\n",
    "x = '3b375'\n",
    "print(x, convert_str2int(x), type(convert_str2int(x)))\n",
    "\n",
    "\n",
    "\n"
   ]
  },
  {
   "cell_type": "code",
   "execution_count": null,
   "metadata": {},
   "outputs": [],
   "source": []
  },
  {
   "cell_type": "markdown",
   "metadata": {},
   "source": [
    "## Testing the transformations"
   ]
  },
  {
   "cell_type": "code",
   "execution_count": 72,
   "metadata": {},
   "outputs": [
    {
     "data": {
      "application/vnd.jupyter.widget-view+json": {
       "model_id": "fad291e250164e1892cc84187f74944a",
       "version_major": 2,
       "version_minor": 0
      },
      "text/plain": [
       "VBox()"
      ]
     },
     "metadata": {},
     "output_type": "display_data"
    },
    {
     "data": {
      "application/vnd.jupyter.widget-view+json": {
       "model_id": "",
       "version_major": 2,
       "version_minor": 0
      },
      "text/plain": [
       "FloatProgress(value=0.0, bar_style='info', description='Progress:', layout=Layout(height='25px', width='50%'),…"
      ]
     },
     "metadata": {},
     "output_type": "display_data"
    },
    {
     "name": "stdout",
     "output_type": "stream",
     "text": [
      "+----------+------------+--------+----+----+\n",
      "|  datetime|     intdate|  ticker|bid2|ask2|\n",
      "+----------+------------+--------+----+----+\n",
      "|2020-04-01|202004011320|B3SAR342|3.49|3.94|\n",
      "|2020-04-01|202004011330|B3SAR342|3.44|3.88|\n",
      "|2020-04-01|202004011340|B3SAR342|3.69|4.15|\n",
      "|2020-04-01|202004011350|B3SAR342|3.65|4.09|\n",
      "|2020-04-01|202004011400|B3SAR342|3.66|4.11|\n",
      "+----------+------------+--------+----+----+\n",
      "only showing top 5 rows"
     ]
    }
   ],
   "source": [
    "(df2.filter(df2.ticker == 'B3SAR342')\n",
    "   .select('datetime', 'intdate', 'ticker', 'bid2', 'ask2')\n",
    "   .sort(df2.intdate.asc())\n",
    "   .show(5))"
   ]
  },
  {
   "cell_type": "code",
   "execution_count": 73,
   "metadata": {},
   "outputs": [
    {
     "data": {
      "application/vnd.jupyter.widget-view+json": {
       "model_id": "b433359df3b84b5eaf8301819b955054",
       "version_major": 2,
       "version_minor": 0
      },
      "text/plain": [
       "VBox()"
      ]
     },
     "metadata": {},
     "output_type": "display_data"
    },
    {
     "data": {
      "application/vnd.jupyter.widget-view+json": {
       "model_id": "",
       "version_major": 2,
       "version_minor": 0
      },
      "text/plain": [
       "FloatProgress(value=0.0, bar_style='info', description='Progress:', layout=Layout(height='25px', width='50%'),…"
      ]
     },
     "metadata": {},
     "output_type": "display_data"
    },
    {
     "name": "stdout",
     "output_type": "stream",
     "text": [
      "+----------+------------+------+-----+-----+\n",
      "|  datetime|     intdate|ticker| bid2| ask2|\n",
      "+----------+------------+------+-----+-----+\n",
      "|2020-04-01|202004011320| PETR4|13.85|13.86|\n",
      "|2020-04-01|202004011330| PETR4|13.82|13.83|\n",
      "|2020-04-01|202004011340| PETR4|13.76|13.78|\n",
      "|2020-04-01|202004011350| PETR4|13.95|13.96|\n",
      "|2020-04-01|202004011400| PETR4|13.99| 14.0|\n",
      "+----------+------------+------+-----+-----+\n",
      "only showing top 5 rows"
     ]
    }
   ],
   "source": [
    "(df2.filter(df2.ticker == 'PETR4')\n",
    "   .select('datetime', 'intdate', 'ticker', 'bid2', 'ask2')\n",
    "   .sort(df2.intdate.asc())\n",
    "   .show(5))"
   ]
  },
  {
   "cell_type": "markdown",
   "metadata": {},
   "source": [
    "## Create quotes fact table"
   ]
  },
  {
   "cell_type": "code",
   "execution_count": 74,
   "metadata": {},
   "outputs": [
    {
     "data": {
      "application/vnd.jupyter.widget-view+json": {
       "model_id": "8ecca8fd0d834277870e7c44b3c8ecea",
       "version_major": 2,
       "version_minor": 0
      },
      "text/plain": [
       "VBox()"
      ]
     },
     "metadata": {},
     "output_type": "display_data"
    },
    {
     "data": {
      "application/vnd.jupyter.widget-view+json": {
       "model_id": "",
       "version_major": 2,
       "version_minor": 0
      },
      "text/plain": [
       "FloatProgress(value=0.0, bar_style='info', description='Progress:', layout=Layout(height='25px', width='50%'),…"
      ]
     },
     "metadata": {},
     "output_type": "display_data"
    },
    {
     "name": "stdout",
     "output_type": "stream",
     "text": [
      "root\n",
      " |-- date: date (nullable = true)\n",
      " |-- intdate: long (nullable = true)\n",
      " |-- year: integer (nullable = true)\n",
      " |-- month: integer (nullable = true)\n",
      " |-- day: integer (nullable = true)\n",
      " |-- ticker: string (nullable = true)\n",
      " |-- last.close: float (nullable = true)\n",
      " |-- open: float (nullable = true)\n",
      " |-- max: float (nullable = true)\n",
      " |-- min: float (nullable = true)\n",
      " |-- last: float (nullable = true)\n",
      " |-- bid: float (nullable = true)\n",
      " |-- ask: float (nullable = true)\n",
      " |-- num.trades: integer (nullable = true)\n",
      " |-- qty.total: integer (nullable = true)\n",
      " |-- total.volume: float (nullable = true)"
     ]
    }
   ],
   "source": [
    "from pyspark.sql.functions import (year, month, dayofmonth, hour, weekofyear,\n",
    "                                   date_format, dayofweek)\n",
    "\n",
    "quotes_table = df2.select(\n",
    "        col('datetime').alias('date'),\n",
    "        col('intdate').alias('intdate'),\n",
    "        year('datetime').alias('year'),\n",
    "        month('datetime').alias('month'),\n",
    "        dayofmonth('datetime').alias('day'),\n",
    "        col('ticker').alias('ticker'),\n",
    "        col('lclose2').alias('last.close'),\n",
    "        col('open2').alias('open'),\n",
    "        col('max2').alias('max'),\n",
    "        col('min2').alias('min'),\n",
    "        col('last2').alias('last'),\n",
    "        col('bid2').alias('bid'),\n",
    "        col('ask2').alias('ask'),\n",
    "        col('ntrades2').alias('num.trades'),\n",
    "        col('qtotal2').alias('qty.total'),\n",
    "        col('totalvol2').alias('total.volume'),\n",
    "     )\n",
    "\n",
    "quotes_table.printSchema()"
   ]
  },
  {
   "cell_type": "code",
   "execution_count": 75,
   "metadata": {},
   "outputs": [
    {
     "data": {
      "application/vnd.jupyter.widget-view+json": {
       "model_id": "c31a4da861e94b25b3ba415b443bc1eb",
       "version_major": 2,
       "version_minor": 0
      },
      "text/plain": [
       "VBox()"
      ]
     },
     "metadata": {},
     "output_type": "display_data"
    },
    {
     "data": {
      "application/vnd.jupyter.widget-view+json": {
       "model_id": "",
       "version_major": 2,
       "version_minor": 0
      },
      "text/plain": [
       "FloatProgress(value=0.0, bar_style='info', description='Progress:', layout=Layout(height='25px', width='50%'),…"
      ]
     },
     "metadata": {},
     "output_type": "display_data"
    },
    {
     "name": "stdout",
     "output_type": "stream",
     "text": [
      "+----------+------------+----+-----+---+------+----------+-----+-----+-----+-----+-----+-----+----------+---------+------------+\n",
      "|date      |intdate     |year|month|day|ticker|last.close|open |max  |min  |last |bid  |ask  |num.trades|qty.total|total.volume|\n",
      "+----------+------------+----+-----+---+------+----------+-----+-----+-----+-----+-----+-----+----------+---------+------------+\n",
      "|2020-04-07|202004071530|2020|4    |7  |AALR3 |8.92      |9.61 |9.77 |9.23 |9.38 |9.35 |9.38 |13910     |379100   |3.0603E7    |\n",
      "|2020-04-07|202004071530|2020|4    |7  |AALR3F|8.92      |9.21 |9.75 |8.94 |9.37 |9.34 |9.38 |1950      |6050     |57.646      |\n",
      "|2020-04-07|202004071530|2020|4    |7  |ALSO3 |25.74     |29.79|29.79|25.19|25.44|25.42|25.49|100390    |20840000 |7.524E7     |\n",
      "|2020-04-07|202004071530|2020|4    |7  |CPLE6 |53.19     |56.22|58.3 |54.91|55.65|55.63|55.66|65350     |916000   |5.175E7     |\n",
      "|2020-04-07|202004071530|2020|4    |7  |BBASQ3|6.81      |null |null |null |null |4.02 |5.0  |null      |null     |null        |\n",
      "+----------+------------+----+-----+---+------+----------+-----+-----+-----+-----+-----+-----+----------+---------+------------+"
     ]
    }
   ],
   "source": [
    "quotes_table.limit(5).show(5, truncate=False)"
   ]
  },
  {
   "cell_type": "code",
   "execution_count": 76,
   "metadata": {},
   "outputs": [
    {
     "data": {
      "application/vnd.jupyter.widget-view+json": {
       "model_id": "d70bfaeee08841e8b1a0db599525fa88",
       "version_major": 2,
       "version_minor": 0
      },
      "text/plain": [
       "VBox()"
      ]
     },
     "metadata": {},
     "output_type": "display_data"
    },
    {
     "data": {
      "application/vnd.jupyter.widget-view+json": {
       "model_id": "",
       "version_major": 2,
       "version_minor": 0
      },
      "text/plain": [
       "FloatProgress(value=0.0, bar_style='info', description='Progress:', layout=Layout(height='25px', width='50%'),…"
      ]
     },
     "metadata": {},
     "output_type": "display_data"
    },
    {
     "name": "stdout",
     "output_type": "stream",
     "text": [
      "+----------+------------+----+-----+---+------+----------+-----+-----+-----+-----+-----+-----+----------+---------+------------+\n",
      "|      date|     intdate|year|month|day|ticker|last.close| open|  max|  min| last|  bid|  ask|num.trades|qty.total|total.volume|\n",
      "+----------+------------+----+-----+---+------+----------+-----+-----+-----+-----+-----+-----+----------+---------+------------+\n",
      "|2020-04-02|202004021600|2020|    4|  2| PETR4|      14.3| 15.4|16.55|15.01|15.74|15.73|15.74|   1977610| 22007000|3.37500006E9|\n",
      "|2020-04-02|202004021610|2020|    4|  2| PETR4|      14.3| 15.4|16.55|15.01|15.68|15.68|15.69|   2010770| 21653000|     3.412E9|\n",
      "|2020-04-01|202004011500|2020|    4|  1| PETR4|     13.99|13.45|14.37|13.32|14.34|14.33|14.34|   1082950| 81357000|      1.13E9|\n",
      "|2020-04-02|202004021550|2020|    4|  2| PETR4|      14.3| 15.4|16.55|15.01|15.84|15.83|15.84|   1933530| 21393000|3.32199987E9|\n",
      "|2020-04-01|202004011630|2020|    4|  1| PETR4|     13.99|13.45|14.55|13.32|14.12|14.11|14.12|   1397030| 10544000|     1.456E9|\n",
      "+----------+------------+----+-----+---+------+----------+-----+-----+-----+-----+-----+-----+----------+---------+------------+\n",
      "only showing top 5 rows"
     ]
    }
   ],
   "source": [
    "quotes_table.filter(quotes_table.ticker == \"PETR4\").show(5)"
   ]
  },
  {
   "cell_type": "code",
   "execution_count": 79,
   "metadata": {},
   "outputs": [
    {
     "data": {
      "application/vnd.jupyter.widget-view+json": {
       "model_id": "36bf0954dd44497e985a204d76b3900e",
       "version_major": 2,
       "version_minor": 0
      },
      "text/plain": [
       "VBox()"
      ]
     },
     "metadata": {},
     "output_type": "display_data"
    },
    {
     "data": {
      "application/vnd.jupyter.widget-view+json": {
       "model_id": "",
       "version_major": 2,
       "version_minor": 0
      },
      "text/plain": [
       "FloatProgress(value=0.0, bar_style='info', description='Progress:', layout=Layout(height='25px', width='50%'),…"
      ]
     },
     "metadata": {},
     "output_type": "display_data"
    }
   ],
   "source": [
    "output_data = 'quotes-from-spark'\n",
    "s_s3_path = f\"s3a://{output_data}/quotes.parquet\"\n",
    "quotes_table.write.mode('overwrite').partitionBy('year', 'month', 'day').parquet(s_s3_path)"
   ]
  },
  {
   "cell_type": "code",
   "execution_count": null,
   "metadata": {},
   "outputs": [],
   "source": []
  },
  {
   "cell_type": "markdown",
   "metadata": {},
   "source": [
    "## Testing functions created to ETL script"
   ]
  },
  {
   "cell_type": "code",
   "execution_count": 22,
   "metadata": {},
   "outputs": [
    {
     "data": {
      "application/vnd.jupyter.widget-view+json": {
       "model_id": "3a704489473042f6aeb5bf0e128c75e6",
       "version_major": 2,
       "version_minor": 0
      },
      "text/plain": [
       "VBox()"
      ]
     },
     "metadata": {},
     "output_type": "display_data"
    },
    {
     "data": {
      "application/vnd.jupyter.widget-view+json": {
       "model_id": "",
       "version_major": 2,
       "version_minor": 0
      },
      "text/plain": [
       "FloatProgress(value=0.0, bar_style='info', description='Progress:', layout=Layout(height='25px', width='50%'),…"
      ]
     },
     "metadata": {},
     "output_type": "display_data"
    }
   ],
   "source": [
    "from datetime import datetime\n",
    "import time\n",
    "import os\n",
    "import numpy as np\n",
    "from pyspark.sql import SparkSession\n",
    "from pyspark.sql.window import Window\n",
    "from pyspark.sql.functions import (udf, col, row_number, regexp_replace,\n",
    "                                   input_file_name)\n",
    "from pyspark.sql.functions import (year, month, dayofmonth, hour, weekofyear,\n",
    "                                   date_format, dayofweek)\n",
    "from pyspark.sql.types import (LongType, IntegerType, DateType, StringType,\n",
    "                               FloatType, StructType, StructField)"
   ]
  },
  {
   "cell_type": "code",
   "execution_count": 105,
   "metadata": {},
   "outputs": [
    {
     "data": {
      "application/vnd.jupyter.widget-view+json": {
       "model_id": "c66950ad8c3e40fc8c9b72e4d642ad99",
       "version_major": 2,
       "version_minor": 0
      },
      "text/plain": [
       "VBox()"
      ]
     },
     "metadata": {},
     "output_type": "display_data"
    },
    {
     "data": {
      "application/vnd.jupyter.widget-view+json": {
       "model_id": "",
       "version_major": 2,
       "version_minor": 0
      },
      "text/plain": [
       "FloatProgress(value=0.0, bar_style='info', description='Progress:', layout=Layout(height='25px', width='50%'),…"
      ]
     },
     "metadata": {},
     "output_type": "display_data"
    }
   ],
   "source": [
    "def convert_str2float(x):\n",
    "    if isinstance(x, str):\n",
    "        if x == 'Abe':\n",
    "            return np.nan\n",
    "        if 'm' in x:\n",
    "            l_nm = [float(xx + '0' * (3-len(xx))) for xx in x.split('m')]\n",
    "            if len(l_nm) > 1:\n",
    "                return l_nm[0] * 10**5 + l_nm[1] * 1000\n",
    "            return l_nm[0] * 10**5\n",
    "        elif 'k' in x:\n",
    "            l_nm = [float(xx + '0' * (3-len(xx))) for xx in x.split('k')]\n",
    "            if len(l_nm) > 1:\n",
    "                return l_nm[0] * 10**3 + l_nm[1]\n",
    "            return l_nm[0] * 10**3\n",
    "        elif 'b' in x:\n",
    "            l_nm = [float(xx + '0' * (3-len(xx))) for xx in x.split('b')]\n",
    "            if len(l_nm) > 1:\n",
    "                return l_nm[0] * 10**7 + l_nm[1] * 10 ** 6\n",
    "            return l_nm[0] * 10**7\n",
    "        return float(x.replace(',', '.'))\n",
    "    return x\n",
    "\n",
    "\n",
    "def convert_str2int(x):\n",
    "    if isinstance(x, str):\n",
    "        if 'm' in x:\n",
    "            l_nm = [int(xx + '0' * (3-len(xx))) for xx in x.split('m')]\n",
    "            if len(l_nm) > 1:\n",
    "                return l_nm[0] * 10**5 + l_nm[1] * 1000\n",
    "            return l_nm[0] * 10**5\n",
    "        elif 'k' in x:\n",
    "            l_nm = [int(xx + '0' * (3-len(xx))) for xx in x.split('k')]\n",
    "            if len(l_nm) > 1:\n",
    "                return l_nm[0] * 10**3 + l_nm[1]\n",
    "            return l_nm[0] * 10**3\n",
    "        elif 'b' in x:\n",
    "            l_nm = [int(xx + '0' * (3-len(xx))) for xx in x.split('b')]\n",
    "            if len(l_nm) > 1:\n",
    "                return l_nm[0] * 10**7 + l_nm[1] * 10 ** 6\n",
    "            return l_nm[0] * 10**7\n",
    "        return int(x.replace('.', ''))\n",
    "    return x"
   ]
  },
  {
   "cell_type": "code",
   "execution_count": 77,
   "metadata": {},
   "outputs": [
    {
     "data": {
      "application/vnd.jupyter.widget-view+json": {
       "model_id": "573f5d2ad4dc420db07d3d36f66cc66d",
       "version_major": 2,
       "version_minor": 0
      },
      "text/plain": [
       "VBox()"
      ]
     },
     "metadata": {},
     "output_type": "display_data"
    },
    {
     "data": {
      "application/vnd.jupyter.widget-view+json": {
       "model_id": "",
       "version_major": 2,
       "version_minor": 0
      },
      "text/plain": [
       "FloatProgress(value=0.0, bar_style='info', description='Progress:', layout=Layout(height='25px', width='50%'),…"
      ]
     },
     "metadata": {},
     "output_type": "display_data"
    }
   ],
   "source": [
    "def load_data(spark, s_path2s3):\n",
    "\n",
    "    # define schema\n",
    "    print('loading {}...'.format(s_path2s3))\n",
    "    this_schema = StructType([\n",
    "        StructField(\"ticker\", StringType(), True),\n",
    "        StructField(\"open\", StringType(), True),\n",
    "        StructField(\"settle\", StringType(), True),\n",
    "        StructField(\"lclose\", StringType(), True),\n",
    "        StructField(\"max\", StringType(), True),\n",
    "        StructField(\"min\", StringType(), True),\n",
    "        StructField(\"bid\", StringType(), True),\n",
    "        StructField(\"ask\", StringType(), True),\n",
    "        StructField(\"qbid\", StringType(), True),\n",
    "        StructField(\"qask\", StringType(), True),\n",
    "        StructField(\"qlast\", IntegerType(), True),\n",
    "        StructField(\"last\", StringType(), True),\n",
    "        StructField(\"group\", StringType(), True),\n",
    "        StructField(\"ntrades\", StringType(), True),\n",
    "        StructField(\"name\", StringType(), True),\n",
    "        StructField(\"qtotal\", StringType(), True),\n",
    "        StructField(\"strike\", StringType(), True),\n",
    "        StructField(\"expdate\", StringType(), True),\n",
    "        StructField(\"totalvol\", StringType(), True)])\n",
    "\n",
    "    # read csv\n",
    "    df = (spark.read\n",
    "          .option(\"header\", \"true\")\n",
    "          .schema(this_schema)\n",
    "          .csv(s_path2s3)\n",
    "          .withColumn(\"input_file\", input_file_name()))\n",
    "\n",
    "    # drop rows where ticker is null\n",
    "    df = df.na.drop(subset=[\"ticker\"])\n",
    "    return df"
   ]
  },
  {
   "cell_type": "code",
   "execution_count": 81,
   "metadata": {},
   "outputs": [
    {
     "data": {
      "application/vnd.jupyter.widget-view+json": {
       "model_id": "ea3f5b61c0914a13b76c1990180f9090",
       "version_major": 2,
       "version_minor": 0
      },
      "text/plain": [
       "VBox()"
      ]
     },
     "metadata": {},
     "output_type": "display_data"
    },
    {
     "data": {
      "application/vnd.jupyter.widget-view+json": {
       "model_id": "",
       "version_major": 2,
       "version_minor": 0
      },
      "text/plain": [
       "FloatProgress(value=0.0, bar_style='info', description='Progress:', layout=Layout(height='25px', width='50%'),…"
      ]
     },
     "metadata": {},
     "output_type": "display_data"
    }
   ],
   "source": [
    "def process_quotes_data(spark, input_data, output_data):\n",
    "    '''\n",
    "    Porcess data from quotes files\n",
    "\n",
    "    :param spark: Spark session object.\n",
    "    :param input_data: string. S3 path data to transform\n",
    "    :param output_data: string. S3 root path to store transformed data\n",
    "    '''\n",
    "\n",
    "    # read log data file\n",
    "    df = load_data(spark, input_data)\n",
    "\n",
    "    # create intdate column to help filter and sort data in the future\n",
    "    get_ints_from_file = udf(lambda x: int(\n",
    "        str(x).split('/')[-1].split('_')[0]), LongType())\n",
    "    df = df.withColumn('intdate', get_ints_from_file('input_file'))\n",
    "\n",
    "    # create datetime column\n",
    "    get_datetime = udf(lambda x: datetime(\n",
    "        *time.strptime(str(x), '%Y%m%d%H%S')[:6]), DateType())\n",
    "    df = df.withColumn('datetime', get_datetime('intdate'))\n",
    "\n",
    "    # convert strings to floats in finatial related fields\n",
    "    get_str2float = udf(lambda x: convert_str2float(x), FloatType())\n",
    "    for s_s2cast in ['bid', 'ask', 'open', 'settle', 'lclose', 'max', 'min',\n",
    "                     'last', 'strike', 'totalvol']:\n",
    "        # df = df.withColumn(f'{s_s2cast}2', get_str2float(f'{s_s2cast}'))\n",
    "        df = df.withColumn(\n",
    "            '{}2'.format(s_s2cast), get_str2float('{}'.format(s_s2cast)))\n",
    "\n",
    "    # convert strings to integers in quantity related fields\n",
    "    get_str2int = udf(lambda x: convert_str2int(x), IntegerType())\n",
    "    for s_s2cast in ['qbid', 'qask', 'qlast', 'qtotal', 'ntrades']:\n",
    "        # df = df.withColumn(f'{s_s2cast}2', get_str2int(f'{s_s2cast}'))\n",
    "        df = df.withColumn(\n",
    "            '{}2'.format(s_s2cast), get_str2int('{}'.format(s_s2cast)))\n",
    "\n",
    "    # extract columns to create quotes table\n",
    "    quotes_table = df.select(\n",
    "            col('intdate').alias('intdate'),\n",
    "            year('datetime').alias('year'),\n",
    "            month('datetime').alias('month'),\n",
    "            dayofmonth('datetime').alias('day'),\n",
    "            col('ticker').alias('ticker'),\n",
    "            col('lclose2').alias('last.close'),\n",
    "            col('open2').alias('open'),\n",
    "            col('max2').alias('max'),\n",
    "            col('min2').alias('min'),\n",
    "            col('last2').alias('last'),\n",
    "            col('bid2').alias('bid'),\n",
    "            col('ask2').alias('ask'),\n",
    "            col('ntrades2').alias('num.trades'),\n",
    "            col('qtotal2').alias('qty.total'),\n",
    "            col('totalvol2').alias('total.volume'),\n",
    "         )\n",
    "#     write time table to parquet files partitioned by year and month\n",
    "\n",
    "#     spark.conf.set(\"spark.sql.sources.partitionOverwriteMode\",\"dynamic\")\n",
    "#     data.toDF().write.mode(\"overwrite\").format(\"parquet\").partitionBy(\"date\", \"name\").save(\"s3://path/to/somewhere\")\n",
    "    s_s3_path = \"{}/quotes.parquet\".format(output_data)\n",
    "    print('.. writing into {}'.format(s_s3_path))\n",
    "    spark.conf.set(\"spark.sql.sources.partitionOverwriteMode\",\"dynamic\")\n",
    "    quotes_table.write.mode('overwrite').partitionBy(\n",
    "        'year', 'month', 'day').parquet(s_s3_path)\n",
    "    \n",
    "    return quotes_table"
   ]
  },
  {
   "cell_type": "code",
   "execution_count": 79,
   "metadata": {},
   "outputs": [
    {
     "data": {
      "application/vnd.jupyter.widget-view+json": {
       "model_id": "5d25541312bc4e7a8931e6a5955bd90d",
       "version_major": 2,
       "version_minor": 0
      },
      "text/plain": [
       "VBox()"
      ]
     },
     "metadata": {},
     "output_type": "display_data"
    },
    {
     "data": {
      "application/vnd.jupyter.widget-view+json": {
       "model_id": "",
       "version_major": 2,
       "version_minor": 0
      },
      "text/plain": [
       "FloatProgress(value=0.0, bar_style='info', description='Progress:', layout=Layout(height='25px', width='50%'),…"
      ]
     },
     "metadata": {},
     "output_type": "display_data"
    }
   ],
   "source": [
    "# spark_etl.py -q data-from-quotes -op data-from-options -d 20200402 -o data-from-etl\n",
    "\n",
    "class foo():\n",
    "    quotes = 'data-from-quotes'\n",
    "    options = 'data-from-options'\n",
    "    output = 'data-from-etl'\n",
    "    date = 20200402\n",
    "\n"
   ]
  },
  {
   "cell_type": "code",
   "execution_count": null,
   "metadata": {},
   "outputs": [],
   "source": []
  },
  {
   "cell_type": "code",
   "execution_count": 80,
   "metadata": {},
   "outputs": [
    {
     "data": {
      "application/vnd.jupyter.widget-view+json": {
       "model_id": "f7f1256bef0e4f2996b3e28a22fa6320",
       "version_major": 2,
       "version_minor": 0
      },
      "text/plain": [
       "VBox()"
      ]
     },
     "metadata": {},
     "output_type": "display_data"
    },
    {
     "data": {
      "application/vnd.jupyter.widget-view+json": {
       "model_id": "",
       "version_major": 2,
       "version_minor": 0
      },
      "text/plain": [
       "FloatProgress(value=0.0, bar_style='info', description='Progress:', layout=Layout(height='25px', width='50%'),…"
      ]
     },
     "metadata": {},
     "output_type": "display_data"
    }
   ],
   "source": [
    "args = foo()\n",
    "\n",
    "s_input_quotes = 's3a://{}/{}*_flashpanel.csv'.format(\n",
    "    args.quotes, args.date)\n",
    "s_input_options = 's3a://{}/{}*_options.csv'.format(\n",
    "    args.options, args.date)\n",
    "s_output = 's3a://{}'.format(args.output)\n",
    "\n",
    "s_err = 'Enter an S3 path to both input and output files'\n",
    "assert s_output and s_input_quotes and s_input_options, s_err"
   ]
  },
  {
   "cell_type": "code",
   "execution_count": 59,
   "metadata": {},
   "outputs": [
    {
     "data": {
      "application/vnd.jupyter.widget-view+json": {
       "model_id": "8c45bca36fe34e5eb39b2afee5f65173",
       "version_major": 2,
       "version_minor": 0
      },
      "text/plain": [
       "VBox()"
      ]
     },
     "metadata": {},
     "output_type": "display_data"
    },
    {
     "data": {
      "application/vnd.jupyter.widget-view+json": {
       "model_id": "",
       "version_major": 2,
       "version_minor": 0
      },
      "text/plain": [
       "FloatProgress(value=0.0, bar_style='info', description='Progress:', layout=Layout(height='25px', width='50%'),…"
      ]
     },
     "metadata": {},
     "output_type": "display_data"
    },
    {
     "name": "stdout",
     "output_type": "stream",
     "text": [
      "loading s3a://data-from-quotes/20200402*_flashpanel.csv...\n",
      "s3a://data-from-etl/quotes.parquet"
     ]
    }
   ],
   "source": [
    "input_quotes_data = s_input_quotes\n",
    "input_options_data = s_input_options\n",
    "output_data = s_output\n",
    "\n",
    "quotes_table = process_quotes_data(spark, input_quotes_data, output_data)"
   ]
  },
  {
   "cell_type": "code",
   "execution_count": 56,
   "metadata": {},
   "outputs": [
    {
     "data": {
      "application/vnd.jupyter.widget-view+json": {
       "model_id": "7f1a960be245457597760a1be0dcf392",
       "version_major": 2,
       "version_minor": 0
      },
      "text/plain": [
       "VBox()"
      ]
     },
     "metadata": {},
     "output_type": "display_data"
    },
    {
     "data": {
      "application/vnd.jupyter.widget-view+json": {
       "model_id": "",
       "version_major": 2,
       "version_minor": 0
      },
      "text/plain": [
       "FloatProgress(value=0.0, bar_style='info', description='Progress:', layout=Layout(height='25px', width='50%'),…"
      ]
     },
     "metadata": {},
     "output_type": "display_data"
    },
    {
     "name": "stdout",
     "output_type": "stream",
     "text": [
      "+------------+----+-----+---+------+----------+-----+-----+-----+-----+-----+-----+----------+---------+------------+\n",
      "|     intdate|year|month|day|ticker|last.close| open|  max|  min| last|  bid|  ask|num.trades|qty.total|total.volume|\n",
      "+------------+----+-----+---+------+----------+-----+-----+-----+-----+-----+-----+----------+---------+------------+\n",
      "|202004071640|2020|    4|  7| PETR4|     15.77|16.61|17.07|16.34|16.44|16.44|16.45|   1452530| 13584000|2.15299994E9|\n",
      "|202004071550|2020|    4|  7| PETR4|     15.77|16.61|17.07| 16.5|16.52|16.52|16.54|   1295620| 11906000|1.94700006E9|\n",
      "|202004071540|2020|    4|  7| PETR4|     15.77|16.61|17.07|16.55| 16.6| 16.6|16.61|   1255010| 12018000|      1.89E9|\n",
      "|202004071510|2020|    4|  7| PETR4|     15.77|16.61|17.07|16.55|16.69|16.68|16.69|   1152040| 10580000|1.73100006E9|\n",
      "|202004071600|2020|    4|  7| PETR4|     15.77|16.61|17.07| 16.5|16.57|16.57|16.58|   1322530| 11910000|     1.978E9|\n",
      "+------------+----+-----+---+------+----------+-----+-----+-----+-----+-----+-----+----------+---------+------------+\n",
      "only showing top 5 rows"
     ]
    }
   ],
   "source": [
    "quotes_table.filter(quotes_table.ticker == \"PETR4\").show(5)"
   ]
  },
  {
   "cell_type": "code",
   "execution_count": null,
   "metadata": {},
   "outputs": [],
   "source": []
  },
  {
   "cell_type": "code",
   "execution_count": null,
   "metadata": {},
   "outputs": [],
   "source": []
  },
  {
   "cell_type": "markdown",
   "metadata": {},
   "source": [
    "## Load options data"
   ]
  },
  {
   "cell_type": "code",
   "execution_count": 89,
   "metadata": {},
   "outputs": [
    {
     "data": {
      "application/vnd.jupyter.widget-view+json": {
       "model_id": "aad2b8e53dcc4ff7a3c23e921de36c5b",
       "version_major": 2,
       "version_minor": 0
      },
      "text/plain": [
       "VBox()"
      ]
     },
     "metadata": {},
     "output_type": "display_data"
    },
    {
     "data": {
      "application/vnd.jupyter.widget-view+json": {
       "model_id": "",
       "version_major": 2,
       "version_minor": 0
      },
      "text/plain": [
       "FloatProgress(value=0.0, bar_style='info', description='Progress:', layout=Layout(height='25px', width='50%'),…"
      ]
     },
     "metadata": {},
     "output_type": "display_data"
    }
   ],
   "source": [
    "# s3://data-from-options/202004011340_options.csv\n",
    "data_options = 's3a://data-from-options/*_options.csv'\n",
    "data_options = 's3a://data-from-options/20200401*_options.csv'"
   ]
  },
  {
   "cell_type": "code",
   "execution_count": null,
   "metadata": {},
   "outputs": [],
   "source": [
    "# 2020-04-01 13:51:41.017496;Du;ExrcPric;OptnStyle;OptnTp;TradgEndDt;Underlying;bid_opton;\n",
    "# bid_undly;ask_opton;ask_undly;sector;bs_ask;bs_bid;my_ask;my_bid;bid_vol_imp;ask_vol_imp;#\n",
    "# bid_vol_cone;ask_vol_cone;bs_delta;new_bid_vol_imp;new_ask_vol_im"
   ]
  },
  {
   "cell_type": "code",
   "execution_count": 90,
   "metadata": {},
   "outputs": [
    {
     "data": {
      "application/vnd.jupyter.widget-view+json": {
       "model_id": "0ed4463876644bf288fdbbf95f6ab542",
       "version_major": 2,
       "version_minor": 0
      },
      "text/plain": [
       "VBox()"
      ]
     },
     "metadata": {},
     "output_type": "display_data"
    },
    {
     "data": {
      "application/vnd.jupyter.widget-view+json": {
       "model_id": "",
       "version_major": 2,
       "version_minor": 0
      },
      "text/plain": [
       "FloatProgress(value=0.0, bar_style='info', description='Progress:', layout=Layout(height='25px', width='50%'),…"
      ]
     },
     "metadata": {},
     "output_type": "display_data"
    },
    {
     "name": "stdout",
     "output_type": "stream",
     "text": [
      "root\n",
      " |-- 2020-04-01 16:22:11.652497: string (nullable = true)\n",
      " |-- Du: string (nullable = true)\n",
      " |-- ExrcPric: string (nullable = true)\n",
      " |-- OptnStyle: string (nullable = true)\n",
      " |-- OptnTp: string (nullable = true)\n",
      " |-- TradgEndDt: string (nullable = true)\n",
      " |-- Underlying: string (nullable = true)\n",
      " |-- bid_opton: string (nullable = true)\n",
      " |-- bid_undly: string (nullable = true)\n",
      " |-- ask_opton: string (nullable = true)\n",
      " |-- ask_undly: string (nullable = true)\n",
      " |-- sector: string (nullable = true)\n",
      " |-- bs_ask: string (nullable = true)\n",
      " |-- bs_bid: string (nullable = true)\n",
      " |-- my_ask: string (nullable = true)\n",
      " |-- my_bid: string (nullable = true)\n",
      " |-- bid_vol_imp: string (nullable = true)\n",
      " |-- ask_vol_imp: string (nullable = true)\n",
      " |-- bid_vol_cone: string (nullable = true)\n",
      " |-- ask_vol_cone: string (nullable = true)\n",
      " |-- bs_delta: string (nullable = true)\n",
      " |-- new_bid_vol_imp: string (nullable = true)\n",
      " |-- new_ask_vol_imp: string (nullable = true)"
     ]
    }
   ],
   "source": [
    "df = spark.read.option(\"sep\", \";\").option(\"header\", \"true\").csv(data_options)\n",
    "df.printSchema()"
   ]
  },
  {
   "cell_type": "code",
   "execution_count": 72,
   "metadata": {},
   "outputs": [
    {
     "data": {
      "application/vnd.jupyter.widget-view+json": {
       "model_id": "b8b620e3c05e481eb0b1a269380cfa3e",
       "version_major": 2,
       "version_minor": 0
      },
      "text/plain": [
       "VBox()"
      ]
     },
     "metadata": {},
     "output_type": "display_data"
    },
    {
     "data": {
      "application/vnd.jupyter.widget-view+json": {
       "model_id": "",
       "version_major": 2,
       "version_minor": 0
      },
      "text/plain": [
       "FloatProgress(value=0.0, bar_style='info', description='Progress:', layout=Layout(height='25px', width='50%'),…"
      ]
     },
     "metadata": {},
     "output_type": "display_data"
    },
    {
     "name": "stdout",
     "output_type": "stream",
     "text": [
      "599694"
     ]
    }
   ],
   "source": [
    "df.count()"
   ]
  },
  {
   "cell_type": "code",
   "execution_count": 73,
   "metadata": {},
   "outputs": [
    {
     "data": {
      "application/vnd.jupyter.widget-view+json": {
       "model_id": "fd22fa13f2f242e68579dc1fc73e659a",
       "version_major": 2,
       "version_minor": 0
      },
      "text/plain": [
       "VBox()"
      ]
     },
     "metadata": {},
     "output_type": "display_data"
    },
    {
     "data": {
      "application/vnd.jupyter.widget-view+json": {
       "model_id": "",
       "version_major": 2,
       "version_minor": 0
      },
      "text/plain": [
       "FloatProgress(value=0.0, bar_style='info', description='Progress:', layout=Layout(height='25px', width='50%'),…"
      ]
     },
     "metadata": {},
     "output_type": "display_data"
    }
   ],
   "source": [
    "from pyspark.sql.functions import regexp_replace, input_file_name\n",
    "from pyspark.sql.types import (StructType, StructField, IntegerType,\n",
    "                               StringType, FloatType)\n",
    "\n",
    "def load_options(spark, s_path2s3):\n",
    "\n",
    "    # define schema\n",
    "    print('loading {}...'.format(s_path2s3))\n",
    "    this_schema = StructType([\n",
    "        StructField(\"ticker\", StringType(), True),\n",
    "        StructField(\"Du\", StringType(), True),\n",
    "        StructField(\"ExrcPric\", StringType(), True),\n",
    "        StructField(\"OptnStyle\", StringType(), True),\n",
    "        StructField(\"OptnTp\", StringType(), True),\n",
    "        StructField(\"TradgEndDt\", StringType(), True),\n",
    "        StructField(\"Underlying\", StringType(), True),\n",
    "        StructField(\"bid_opton\", StringType(), True),\n",
    "        StructField(\"bid_undly\", StringType(), True),\n",
    "        StructField(\"ask_opton\", StringType(), True),\n",
    "        StructField(\"ask_undly\", StringType(), True),\n",
    "        StructField(\"sector\", StringType(), True),\n",
    "        StructField(\"bs_ask\", StringType(), True),\n",
    "        StructField(\"bs_bid\", StringType(), True),\n",
    "        StructField(\"my_ask\", StringType(), True),\n",
    "        StructField(\"my_bid\", StringType(), True),\n",
    "        StructField(\"bid_vol_imp\", StringType(), True),\n",
    "        StructField(\"ask_vol_imp\", StringType(), True),\n",
    "        StructField(\"bid_vol_cone\", StringType(), True),\n",
    "        StructField(\"ask_vol_cone\", StringType(), True),\n",
    "        StructField(\"bs_delta\", StringType(), True),\n",
    "        StructField(\"new_bid_vol_imp\", StringType(), True),\n",
    "        StructField(\"new_ask_vol_imp\", StringType(), True)\n",
    "    ])\n",
    "\n",
    "    # read csv\n",
    "    df = (spark.read\n",
    "          .option(\"sep\", \";\")\n",
    "          .option(\"header\", \"true\")\n",
    "          .schema(this_schema)\n",
    "          .csv(s_path2s3)\n",
    "          .withColumn(\"input_file\", input_file_name()))\n",
    "\n",
    "    # drop rows where ticker is null\n",
    "    df = df.na.drop(subset=[\"ticker\"])\n",
    "    return df"
   ]
  },
  {
   "cell_type": "code",
   "execution_count": 93,
   "metadata": {},
   "outputs": [
    {
     "data": {
      "application/vnd.jupyter.widget-view+json": {
       "model_id": "106593a0dcaa4758be98e5d9fe4646f5",
       "version_major": 2,
       "version_minor": 0
      },
      "text/plain": [
       "VBox()"
      ]
     },
     "metadata": {},
     "output_type": "display_data"
    },
    {
     "data": {
      "application/vnd.jupyter.widget-view+json": {
       "model_id": "",
       "version_major": 2,
       "version_minor": 0
      },
      "text/plain": [
       "FloatProgress(value=0.0, bar_style='info', description='Progress:', layout=Layout(height='25px', width='50%'),…"
      ]
     },
     "metadata": {},
     "output_type": "display_data"
    },
    {
     "name": "stdout",
     "output_type": "stream",
     "text": [
      "loading s3a://data-from-options/20200401*_options.csv...\n",
      "root\n",
      " |-- ticker: string (nullable = true)\n",
      " |-- Du: string (nullable = true)\n",
      " |-- ExrcPric: string (nullable = true)\n",
      " |-- OptnStyle: string (nullable = true)\n",
      " |-- OptnTp: string (nullable = true)\n",
      " |-- TradgEndDt: string (nullable = true)\n",
      " |-- Underlying: string (nullable = true)\n",
      " |-- bid_opton: string (nullable = true)\n",
      " |-- bid_undly: string (nullable = true)\n",
      " |-- ask_opton: string (nullable = true)\n",
      " |-- ask_undly: string (nullable = true)\n",
      " |-- sector: string (nullable = true)\n",
      " |-- bs_ask: string (nullable = true)\n",
      " |-- bs_bid: string (nullable = true)\n",
      " |-- my_ask: string (nullable = true)\n",
      " |-- my_bid: string (nullable = true)\n",
      " |-- bid_vol_imp: string (nullable = true)\n",
      " |-- ask_vol_imp: string (nullable = true)\n",
      " |-- bid_vol_cone: string (nullable = true)\n",
      " |-- ask_vol_cone: string (nullable = true)\n",
      " |-- bs_delta: string (nullable = true)\n",
      " |-- new_bid_vol_imp: string (nullable = true)\n",
      " |-- new_ask_vol_imp: string (nullable = true)\n",
      " |-- input_file: string (nullable = false)"
     ]
    }
   ],
   "source": [
    "df = load_options(spark, data_options)\n",
    "df.printSchema()"
   ]
  },
  {
   "cell_type": "code",
   "execution_count": 75,
   "metadata": {},
   "outputs": [
    {
     "data": {
      "application/vnd.jupyter.widget-view+json": {
       "model_id": "a5380b4408ba43c796b48e1467fd3236",
       "version_major": 2,
       "version_minor": 0
      },
      "text/plain": [
       "VBox()"
      ]
     },
     "metadata": {},
     "output_type": "display_data"
    },
    {
     "data": {
      "application/vnd.jupyter.widget-view+json": {
       "model_id": "",
       "version_major": 2,
       "version_minor": 0
      },
      "text/plain": [
       "FloatProgress(value=0.0, bar_style='info', description='Progress:', layout=Layout(height='25px', width='50%'),…"
      ]
     },
     "metadata": {},
     "output_type": "display_data"
    },
    {
     "name": "stdout",
     "output_type": "stream",
     "text": [
      "599694"
     ]
    }
   ],
   "source": [
    "df.count()"
   ]
  },
  {
   "cell_type": "markdown",
   "metadata": {},
   "source": [
    "## Exploring the data"
   ]
  },
  {
   "cell_type": "code",
   "execution_count": 95,
   "metadata": {},
   "outputs": [
    {
     "data": {
      "application/vnd.jupyter.widget-view+json": {
       "model_id": "9ad2fda390934ffbb4f0253156ff1243",
       "version_major": 2,
       "version_minor": 0
      },
      "text/plain": [
       "VBox()"
      ]
     },
     "metadata": {},
     "output_type": "display_data"
    },
    {
     "data": {
      "application/vnd.jupyter.widget-view+json": {
       "model_id": "",
       "version_major": 2,
       "version_minor": 0
      },
      "text/plain": [
       "FloatProgress(value=0.0, bar_style='info', description='Progress:', layout=Layout(height='25px', width='50%'),…"
      ]
     },
     "metadata": {},
     "output_type": "display_data"
    },
    {
     "name": "stdout",
     "output_type": "stream",
     "text": [
      "+--------+---+---------+---------+---------+---------+------+\n",
      "|  ticker| Du|bid_opton|ask_opton|bid_undly|ask_undly|sector|\n",
      "+--------+---+---------+---------+---------+---------+------+\n",
      "|B3SAR342| 50|  3,21000|  3,66000| 34,43000| 34,46000|     4|\n",
      "| B3SAR35| 50|  3,80000|  4,27000| 34,43000| 34,46000|     4|\n",
      "|B3SAR350| 50|  3,56000|  4,01000| 34,43000| 34,46000|     4|\n",
      "|B3SAR352| 50|  3,68000|  4,14000| 34,43000| 34,46000|     4|\n",
      "| B3SAR36| 50|  4,33000|  4,80000| 34,43000| 34,46000|     4|\n",
      "+--------+---+---------+---------+---------+---------+------+\n",
      "only showing top 5 rows"
     ]
    }
   ],
   "source": [
    "(df.filter(df.Underlying == 'B3SA3')\n",
    "   .select('ticker', 'Du', 'bid_opton', 'ask_opton', 'bid_undly', 'ask_undly', 'sector')\n",
    "   .show(5))"
   ]
  },
  {
   "cell_type": "code",
   "execution_count": 88,
   "metadata": {},
   "outputs": [
    {
     "data": {
      "application/vnd.jupyter.widget-view+json": {
       "model_id": "fd34970546b843fcbfd23c54ef5f684a",
       "version_major": 2,
       "version_minor": 0
      },
      "text/plain": [
       "VBox()"
      ]
     },
     "metadata": {},
     "output_type": "display_data"
    },
    {
     "data": {
      "application/vnd.jupyter.widget-view+json": {
       "model_id": "",
       "version_major": 2,
       "version_minor": 0
      },
      "text/plain": [
       "FloatProgress(value=0.0, bar_style='info', description='Progress:', layout=Layout(height='25px', width='50%'),…"
      ]
     },
     "metadata": {},
     "output_type": "display_data"
    },
    {
     "name": "stdout",
     "output_type": "stream",
     "text": [
      "+--------------------+\n",
      "|          input_file|\n",
      "+--------------------+\n",
      "|s3a://data-from-o...|\n",
      "|s3a://data-from-o...|\n",
      "|s3a://data-from-o...|\n",
      "|s3a://data-from-o...|\n",
      "|s3a://data-from-o...|\n",
      "+--------------------+\n",
      "only showing top 5 rows"
     ]
    }
   ],
   "source": [
    "(df.filter(df.Underlying == 'PETR4')\n",
    "   .select('input_file')\n",
    "   .show(5))"
   ]
  },
  {
   "cell_type": "code",
   "execution_count": 100,
   "metadata": {},
   "outputs": [
    {
     "data": {
      "application/vnd.jupyter.widget-view+json": {
       "model_id": "bb62bfc46eec43b8a810f3b4453008df",
       "version_major": 2,
       "version_minor": 0
      },
      "text/plain": [
       "VBox()"
      ]
     },
     "metadata": {},
     "output_type": "display_data"
    },
    {
     "data": {
      "application/vnd.jupyter.widget-view+json": {
       "model_id": "",
       "version_major": 2,
       "version_minor": 0
      },
      "text/plain": [
       "FloatProgress(value=0.0, bar_style='info', description='Progress:', layout=Layout(height='25px', width='50%'),…"
      ]
     },
     "metadata": {},
     "output_type": "display_data"
    },
    {
     "name": "stdout",
     "output_type": "stream",
     "text": [
      "['ticker', 'Du', 'ExrcPric', 'OptnStyle', 'OptnTp', 'TradgEndDt', 'Underlying', 'bid_opton', 'bid_undly', 'ask_opton', 'ask_undly', 'sector', 'bs_ask', 'bs_bid', 'my_ask', 'my_bid', 'bid_vol_imp', 'ask_vol_imp', 'bid_vol_cone', 'ask_vol_cone', 'bs_delta', 'new_bid_vol_imp', 'new_ask_vol_imp', 'input_file']"
     ]
    }
   ],
   "source": [
    "df.schema.names"
   ]
  },
  {
   "cell_type": "markdown",
   "metadata": {},
   "source": [
    "## Transforming the data and creating options fact table"
   ]
  },
  {
   "cell_type": "code",
   "execution_count": 99,
   "metadata": {},
   "outputs": [
    {
     "data": {
      "application/vnd.jupyter.widget-view+json": {
       "model_id": "6ca8e9ce28b1463fae1aefd6cdd64a2a",
       "version_major": 2,
       "version_minor": 0
      },
      "text/plain": [
       "VBox()"
      ]
     },
     "metadata": {},
     "output_type": "display_data"
    },
    {
     "data": {
      "application/vnd.jupyter.widget-view+json": {
       "model_id": "",
       "version_major": 2,
       "version_minor": 0
      },
      "text/plain": [
       "FloatProgress(value=0.0, bar_style='info', description='Progress:', layout=Layout(height='25px', width='50%'),…"
      ]
     },
     "metadata": {},
     "output_type": "display_data"
    }
   ],
   "source": [
    "\n",
    "from datetime import datetime\n",
    "import time\n",
    "import os\n",
    "import numpy as np\n",
    "from pyspark.sql import SparkSession\n",
    "from pyspark.sql.window import Window\n",
    "from pyspark.sql.functions import (udf, col, row_number, regexp_replace,\n",
    "                                   input_file_name)\n",
    "from pyspark.sql.functions import (year, month, dayofmonth, hour, weekofyear,\n",
    "                                   date_format, dayofweek)\n",
    "from pyspark.sql.types import (LongType, IntegerType, DateType, StringType,\n",
    "                               FloatType, StructType, StructField)\n"
   ]
  },
  {
   "cell_type": "code",
   "execution_count": 176,
   "metadata": {},
   "outputs": [
    {
     "data": {
      "application/vnd.jupyter.widget-view+json": {
       "model_id": "667750a759974a19a024ba6dd2a7f410",
       "version_major": 2,
       "version_minor": 0
      },
      "text/plain": [
       "VBox()"
      ]
     },
     "metadata": {},
     "output_type": "display_data"
    },
    {
     "data": {
      "application/vnd.jupyter.widget-view+json": {
       "model_id": "",
       "version_major": 2,
       "version_minor": 0
      },
      "text/plain": [
       "FloatProgress(value=0.0, bar_style='info', description='Progress:', layout=Layout(height='25px', width='50%'),…"
      ]
     },
     "metadata": {},
     "output_type": "display_data"
    }
   ],
   "source": [
    "def process_options_data(spark, input_data, output_data):\n",
    "    '''\n",
    "    Porcess data from quotes files\n",
    "\n",
    "    :param spark: Spark session object.\n",
    "    :param input_data: string. S3 path data to transform\n",
    "    :param output_data: string. S3 root path to store transformed data\n",
    "    '''\n",
    "\n",
    "    # read log data file\n",
    "    df = load_options(spark, input_data)\n",
    "\n",
    "    # create intdate column to help filter and sort data in the future\n",
    "    get_ints_from_file = udf(lambda x: int(\n",
    "        str(x).split('/')[-1].split('_')[0]), LongType())\n",
    "    df = df.withColumn('intdate', get_ints_from_file('input_file'))\n",
    "\n",
    "    # create datetime column\n",
    "    get_datetime = udf(lambda x: datetime(\n",
    "        *time.strptime(str(x), '%Y%m%d%H%S')[:6]), DateType())\n",
    "    df = df.withColumn('datetime', get_datetime('intdate'))\n",
    "\n",
    "    # convert strings to floats in finatial related fields\n",
    "    get_str2float = udf(lambda x: convert_str2float(x), FloatType())\n",
    "    for s_s2cast in ['ExrcPric', 'bid_opton', 'bid_undly', 'ask_opton', 'ask_undly',\n",
    "                     'bs_ask', 'bs_bid', 'my_ask', 'my_bid', 'bid_vol_imp', 'ask_vol_imp',\n",
    "                     'bid_vol_cone', 'ask_vol_cone', 'bs_delta', 'new_bid_vol_imp',\n",
    "                     'new_ask_vol_imp']:\n",
    "        # df = df.withColumn(f'{s_s2cast}2', get_str2float(f'{s_s2cast}'))\n",
    "        df = df.withColumn(\n",
    "            '{}2'.format(s_s2cast), get_str2float('{}'.format(s_s2cast)))\n",
    "\n",
    "    # convert strings to integers in quantity related fields\n",
    "    get_str2int = udf(lambda x: convert_str2int(x), IntegerType())\n",
    "    for s_s2cast in ['Du',  'sector']:\n",
    "        # df = df.withColumn(f'{s_s2cast}2', get_str2int(f'{s_s2cast}'))\n",
    "        df = df.withColumn(\n",
    "            '{}2'.format(s_s2cast), get_str2int('{}'.format(s_s2cast)))\n",
    "\n",
    "    # extract columns to create quotes table\n",
    "    options_table = df.select(\n",
    "        col('intdate').alias('intdate'),\n",
    "        year('datetime').alias('year'),\n",
    "        month('datetime').alias('month'),\n",
    "        dayofmonth('datetime').alias('day'),\n",
    "        col('ticker').alias('ticker'),\n",
    "        col('Underlying').alias('optn_ua'),  # underlying asset\n",
    "        col('OptnStyle').alias('optn_style'),\n",
    "        col('OptnTp').alias('optn_tp'),\n",
    "        col('DU2').alias('optn_expn_days'),\n",
    "        col('TradgEndDt').alias('optn_expn_date'),\n",
    "        col('ExrcPric2').alias('optn_strike'),\n",
    "        col('bs_delta2').alias('optn_bs_delta'),\n",
    "        col('bid_opton2').alias('optn_mkt_bid'),\n",
    "        col('bs_bid2').alias('optn_bs_bid'),\n",
    "        col('my_bid2').alias('optn_mktbs_bid'),\n",
    "        col('bid_undly2').alias('ua_mkt_bid'),\n",
    "        col('ask_opton2').alias('optn_mkt_ask'),\n",
    "        col('bs_ask2').alias('optn_bs_ask'),\n",
    "        col('my_ask2').alias('optn_mktbs_ask'),\n",
    "        col('ask_undly2').alias('ua_mkt_ask'),\n",
    "        col('bid_vol_imp2').alias('bid_volimp'),\n",
    "        col('bid_vol_cone2').alias('bid_volcone'),\n",
    "        col('ask_vol_imp2').alias('ask_volimp'),\n",
    "        col('ask_vol_cone2').alias('ask_volcone'),\n",
    "     )\n",
    "    # write time table to parquet files partitioned by year and month\n",
    "    s_s3_path = \"{}/options.parquet\".format(output_data)\n",
    "    print('.. writing into {}'.format(s_s3_path))\n",
    "    spark.conf.set(\"spark.sql.sources.partitionOverwriteMode\",\"dynamic\")\n",
    "    options_table.write.mode('overwrite').partitionBy(\n",
    "        'year', 'month', 'day').parquet(s_s3_path)\n",
    "    \n",
    "    return options_table"
   ]
  },
  {
   "cell_type": "code",
   "execution_count": 177,
   "metadata": {},
   "outputs": [
    {
     "data": {
      "application/vnd.jupyter.widget-view+json": {
       "model_id": "a08528a6567942e091bb56c3398099fb",
       "version_major": 2,
       "version_minor": 0
      },
      "text/plain": [
       "VBox()"
      ]
     },
     "metadata": {},
     "output_type": "display_data"
    },
    {
     "data": {
      "application/vnd.jupyter.widget-view+json": {
       "model_id": "",
       "version_major": 2,
       "version_minor": 0
      },
      "text/plain": [
       "FloatProgress(value=0.0, bar_style='info', description='Progress:', layout=Layout(height='25px', width='50%'),…"
      ]
     },
     "metadata": {},
     "output_type": "display_data"
    }
   ],
   "source": [
    "class foo():\n",
    "    quotes = 'data-from-quotes'\n",
    "    options = 'data-from-options'\n",
    "    output = 'data-from-etl'\n",
    "    date = 20200402"
   ]
  },
  {
   "cell_type": "code",
   "execution_count": 178,
   "metadata": {},
   "outputs": [
    {
     "data": {
      "application/vnd.jupyter.widget-view+json": {
       "model_id": "a934ee5da9e34bdd834a572de1b90134",
       "version_major": 2,
       "version_minor": 0
      },
      "text/plain": [
       "VBox()"
      ]
     },
     "metadata": {},
     "output_type": "display_data"
    },
    {
     "data": {
      "application/vnd.jupyter.widget-view+json": {
       "model_id": "",
       "version_major": 2,
       "version_minor": 0
      },
      "text/plain": [
       "FloatProgress(value=0.0, bar_style='info', description='Progress:', layout=Layout(height='25px', width='50%'),…"
      ]
     },
     "metadata": {},
     "output_type": "display_data"
    }
   ],
   "source": [
    "s_input_quotes = 's3a://{}/{}*_flashpanel.csv'.format(\n",
    "    args.quotes, args.date)\n",
    "s_input_options = 's3a://{}/{}*_options.csv'.format(\n",
    "    args.options, args.date)\n",
    "s_output = 's3a://{}'.format(args.output)"
   ]
  },
  {
   "cell_type": "code",
   "execution_count": 179,
   "metadata": {},
   "outputs": [
    {
     "data": {
      "application/vnd.jupyter.widget-view+json": {
       "model_id": "f65adf70b4ed4449aa84cc303848af97",
       "version_major": 2,
       "version_minor": 0
      },
      "text/plain": [
       "VBox()"
      ]
     },
     "metadata": {},
     "output_type": "display_data"
    },
    {
     "data": {
      "application/vnd.jupyter.widget-view+json": {
       "model_id": "",
       "version_major": 2,
       "version_minor": 0
      },
      "text/plain": [
       "FloatProgress(value=0.0, bar_style='info', description='Progress:', layout=Layout(height='25px', width='50%'),…"
      ]
     },
     "metadata": {},
     "output_type": "display_data"
    },
    {
     "name": "stdout",
     "output_type": "stream",
     "text": [
      "loading s3a://data-from-options/20200402*_options.csv...\n",
      ".. writing into s3a://data-from-etl/options.parquet\n",
      "root\n",
      " |-- intdate: long (nullable = true)\n",
      " |-- year: integer (nullable = true)\n",
      " |-- month: integer (nullable = true)\n",
      " |-- day: integer (nullable = true)\n",
      " |-- ticker: string (nullable = true)\n",
      " |-- optn_ua: string (nullable = true)\n",
      " |-- optn_style: string (nullable = true)\n",
      " |-- optn_tp: string (nullable = true)\n",
      " |-- optn_expn_days: integer (nullable = true)\n",
      " |-- optn_expn_date: string (nullable = true)\n",
      " |-- optn_strike: float (nullable = true)\n",
      " |-- optn_bs_delta: float (nullable = true)\n",
      " |-- optn_mkt_bid: float (nullable = true)\n",
      " |-- optn_bs_bid: float (nullable = true)\n",
      " |-- optn_mktbs_bid: float (nullable = true)\n",
      " |-- ua_mkt_bid: float (nullable = true)\n",
      " |-- optn_mkt_ask: float (nullable = true)\n",
      " |-- optn_bs_ask: float (nullable = true)\n",
      " |-- optn_mktbs_ask: float (nullable = true)\n",
      " |-- ua_mkt_ask: float (nullable = true)\n",
      " |-- bid_volimp: float (nullable = true)\n",
      " |-- bid_volcone: float (nullable = true)\n",
      " |-- ask_volimp: float (nullable = true)\n",
      " |-- ask_volcone: float (nullable = true)"
     ]
    }
   ],
   "source": [
    "options_table = process_options_data(spark, s_input_options, s_output)\n",
    "options_table.printSchema()"
   ]
  },
  {
   "cell_type": "code",
   "execution_count": 180,
   "metadata": {},
   "outputs": [
    {
     "data": {
      "application/vnd.jupyter.widget-view+json": {
       "model_id": "e5581c1e7327445a8cbebc0dc0ed4e24",
       "version_major": 2,
       "version_minor": 0
      },
      "text/plain": [
       "VBox()"
      ]
     },
     "metadata": {},
     "output_type": "display_data"
    },
    {
     "data": {
      "application/vnd.jupyter.widget-view+json": {
       "model_id": "",
       "version_major": 2,
       "version_minor": 0
      },
      "text/plain": [
       "FloatProgress(value=0.0, bar_style='info', description='Progress:', layout=Layout(height='25px', width='50%'),…"
      ]
     },
     "metadata": {},
     "output_type": "display_data"
    },
    {
     "name": "stdout",
     "output_type": "stream",
     "text": [
      "+--------+-------+--------------+--------------+----------+--------------+--------------+\n",
      "|  ticker|optn_ua|optn_expn_days|optn_expn_date|ua_mkt_bid|optn_mktbs_bid|optn_mktbs_ask|\n",
      "+--------+-------+--------------+--------------+----------+--------------+--------------+\n",
      "|B3SAR342|  B3SA3|            48|    2020-06-15|     35.97|          2.56|          2.92|\n",
      "| B3SAR35|  B3SA3|            48|    2020-06-15|     35.97|          3.09|          3.45|\n",
      "|B3SAR350|  B3SA3|            48|    2020-06-15|     35.97|          2.87|          3.23|\n",
      "|B3SAR352|  B3SA3|            48|    2020-06-15|     35.97|          2.98|          3.34|\n",
      "| B3SAR36|  B3SA3|            48|    2020-06-15|     35.97|          3.55|          3.92|\n",
      "+--------+-------+--------------+--------------+----------+--------------+--------------+\n",
      "only showing top 5 rows"
     ]
    }
   ],
   "source": [
    "(options_table.filter(options_table[\"optn_ua\"] == 'B3SA3')\n",
    "   .select('ticker', 'optn_ua', 'optn_expn_days', 'optn_expn_date', 'ua_mkt_bid', 'optn_mktbs_bid', 'optn_mktbs_ask')\n",
    "   .show(5))"
   ]
  },
  {
   "cell_type": "code",
   "execution_count": null,
   "metadata": {},
   "outputs": [],
   "source": []
  }
 ],
 "metadata": {
  "jupytext": {
   "formats": "ipynb,py:light"
  },
  "kernelspec": {
   "display_name": "zipline",
   "language": "python",
   "name": "zipline"
  },
  "language_info": {
   "codemirror_mode": {
    "name": "ipython",
    "version": 3
   },
   "file_extension": ".py",
   "mimetype": "text/x-python",
   "name": "python",
   "nbconvert_exporter": "python",
   "pygments_lexer": "ipython3",
   "version": "3.6.9"
  }
 },
 "nbformat": 4,
 "nbformat_minor": 4
}
